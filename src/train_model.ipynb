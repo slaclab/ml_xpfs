{
 "cells": [
  {
   "cell_type": "markdown",
   "metadata": {},
   "source": [
    "##### This is a sample notebook showing how to train the ML models for XPFS/XPCS single-photon counting experiments. For the training, please extract the dataset at: https://zenodo.org/record/6643622 to the ml_xpfs folder."
   ]
  },
  {
   "cell_type": "code",
   "execution_count": 1,
   "metadata": {},
   "outputs": [],
   "source": [
    "%load_ext autoreload\n",
    "%autoreload 2\n",
    "\n",
    "import h5py\n",
    "import numpy as np \n",
    "import pandas as pd\n",
    "from matplotlib import pyplot as plt\n",
    "\n",
    "import tensorflow as tf\n",
    "from sklearn.model_selection import train_test_split\n",
    "from tensorflow.keras.utils import to_categorical\n",
    "from sklearn.metrics import classification_report\n",
    "from tensorflow.keras.models import Model\n",
    "from tensorflow.keras.callbacks import Callback\n",
    "from scipy.optimize import minimize\n",
    "from scipy.misc import derivative\n",
    "\n",
    "from tqdm import tqdm\n",
    "from unet_model import *\n",
    "from utils import *"
   ]
  },
  {
   "cell_type": "code",
   "execution_count": 2,
   "metadata": {},
   "outputs": [],
   "source": [
    "# Load data\n",
    "hf = h5py.File('../XPFS_data/high_kbar/high_kbar.h5', 'r')"
   ]
  },
  {
   "cell_type": "markdown",
   "metadata": {},
   "source": [
    "The following three cells breaks down the h5 file structure. Please note that the valid and test data have 18 datasets respectively. Each dataset corresponds to a particular contrast level."
   ]
  },
  {
   "cell_type": "code",
   "execution_count": 3,
   "metadata": {},
   "outputs": [
    {
     "name": "stdout",
     "output_type": "stream",
     "text": [
      "<KeysViewHDF5 ['test', 'train', 'valid']>\n"
     ]
    }
   ],
   "source": [
    "print(hf.keys())"
   ]
  },
  {
   "cell_type": "code",
   "execution_count": 4,
   "metadata": {},
   "outputs": [
    {
     "name": "stdout",
     "output_type": "stream",
     "text": [
      "<KeysViewHDF5 ['train_detector', 'train_photon_map']>\n"
     ]
    }
   ],
   "source": [
    "print(hf['train'].keys())"
   ]
  },
  {
   "cell_type": "code",
   "execution_count": 5,
   "metadata": {},
   "outputs": [
    {
     "name": "stdout",
     "output_type": "stream",
     "text": [
      "<KeysViewHDF5 ['valid_detector_0.1', 'valid_detector_0.15', 'valid_detector_0.2', 'valid_detector_0.25', 'valid_detector_0.3', 'valid_detector_0.35', 'valid_detector_0.4', 'valid_detector_0.45', 'valid_detector_0.5', 'valid_detector_0.55', 'valid_detector_0.6', 'valid_detector_0.65', 'valid_detector_0.7', 'valid_detector_0.75', 'valid_detector_0.8', 'valid_detector_0.85', 'valid_detector_0.9', 'valid_detector_0.95', 'valid_photon_map_0.1', 'valid_photon_map_0.15', 'valid_photon_map_0.2', 'valid_photon_map_0.25', 'valid_photon_map_0.3', 'valid_photon_map_0.35', 'valid_photon_map_0.4', 'valid_photon_map_0.45', 'valid_photon_map_0.5', 'valid_photon_map_0.55', 'valid_photon_map_0.6', 'valid_photon_map_0.65', 'valid_photon_map_0.7', 'valid_photon_map_0.75', 'valid_photon_map_0.8', 'valid_photon_map_0.85', 'valid_photon_map_0.9', 'valid_photon_map_0.95']>\n"
     ]
    }
   ],
   "source": [
    "print(hf['valid'].keys())"
   ]
  },
  {
   "cell_type": "code",
   "execution_count": 6,
   "metadata": {},
   "outputs": [],
   "source": [
    "# Custom callback for contrast calculation on 18 validation sets every 10 epochs. \n",
    "# This is a useful check that the model is actually learning contrast and not just MSE \n",
    "\n",
    "class ContrastEvaluation(Callback):\n",
    "    def __init__(self):\n",
    "        super(Callback, self).__init__()\n",
    "\n",
    "    def on_epoch_end(self,epochs,logs=None):\n",
    "                \n",
    "        # Validation Set Contrast \n",
    "        if (epochs % 10 == 0):\n",
    "            \n",
    "            true = list(np.round(np.linspace(0.1, 0.95, 18), 2))\n",
    "            \n",
    "            ml_pred = []\n",
    "            \n",
    "            for element in true:\n",
    "                X_ADU_test = np.array(hf['valid']['valid_detector_' + str(element)])                 \n",
    "                photon_map = np.round(model.predict(X_ADU_test))\n",
    "                data = np.reshape(photon_map, (len(photon_map), -1))\n",
    "                k = np.reshape(data, -1)\n",
    "                kbar = np.repeat(np.mean(data, axis=1),900)\n",
    "                result = minimize(nll,0.8,args=(k,kbar),bounds=((0.001,1.0),))\n",
    "                ml_pred.append(result.x[0])\n",
    "                \n",
    "            corr, _ = pearsonr(ml_pred, true)\n",
    "            print(str(epochs))\n",
    "            print(\"Correlation: \", corr)\n",
    "            \n",
    "            plt.scatter(true, ml_pred)\n",
    "            plt.plot(np.linspace(0,1), np.linspace(0,1), color='red')\n",
    "            plt.xlabel(\"True\")\n",
    "            plt.ylabel(\"Predicted\")\n",
    "            plt.xlim(0,1)\n",
    "            plt.ylim(0,1)\n",
    "            plt.show()\n",
    "        \n",
    "            print(\"------------------------------------------------------------------------------------\")"
   ]
  },
  {
   "cell_type": "code",
   "execution_count": 7,
   "metadata": {},
   "outputs": [],
   "source": [
    "# Load training data; already normalized to a photon ADU = 340\n",
    "X_train_ADU = np.array(hf['train']['train_detector'])\n",
    "X_train_GT = np.array(hf['train']['train_photon_map'])\n"
   ]
  },
  {
   "cell_type": "markdown",
   "metadata": {},
   "source": [
    "Train model"
   ]
  },
  {
   "cell_type": "code",
   "execution_count": null,
   "metadata": {},
   "outputs": [
    {
     "name": "stdout",
     "output_type": "stream",
     "text": [
      "Model: \"U-Net\"\n",
      "__________________________________________________________________________________________________\n",
      " Layer (type)                   Output Shape         Param #     Connected to                     \n",
      "==================================================================================================\n",
      " input_1 (InputLayer)           [(None, 90, 90, 1)]  0           []                               \n",
      "                                                                                                  \n",
      " conv2d (Conv2D)                (None, 90, 90, 8)    80          ['input_1[0][0]']                \n",
      "                                                                                                  \n",
      " batch_normalization (BatchNorm  (None, 90, 90, 8)   32          ['conv2d[0][0]']                 \n",
      " alization)                                                                                       \n",
      "                                                                                                  \n",
      " tf.nn.relu (TFOpLambda)        (None, 90, 90, 8)    0           ['batch_normalization[0][0]']    \n",
      "                                                                                                  \n",
      " conv2d_1 (Conv2D)              (None, 90, 90, 8)    584         ['tf.nn.relu[0][0]']             \n",
      "                                                                                                  \n",
      " batch_normalization_1 (BatchNo  (None, 90, 90, 8)   32          ['conv2d_1[0][0]']               \n",
      " rmalization)                                                                                     \n",
      "                                                                                                  \n",
      " tf.nn.relu_1 (TFOpLambda)      (None, 90, 90, 8)    0           ['batch_normalization_1[0][0]']  \n",
      "                                                                                                  \n",
      " max_pooling2d (MaxPooling2D)   (None, 30, 30, 8)    0           ['tf.nn.relu_1[0][0]']           \n",
      "                                                                                                  \n",
      " conv2d_2 (Conv2D)              (None, 30, 30, 16)   1168        ['max_pooling2d[0][0]']          \n",
      "                                                                                                  \n",
      " batch_normalization_2 (BatchNo  (None, 30, 30, 16)  64          ['conv2d_2[0][0]']               \n",
      " rmalization)                                                                                     \n",
      "                                                                                                  \n",
      " tf.nn.relu_2 (TFOpLambda)      (None, 30, 30, 16)   0           ['batch_normalization_2[0][0]']  \n",
      "                                                                                                  \n",
      " conv2d_3 (Conv2D)              (None, 30, 30, 16)   2320        ['tf.nn.relu_2[0][0]']           \n",
      "                                                                                                  \n",
      " batch_normalization_3 (BatchNo  (None, 30, 30, 16)  64          ['conv2d_3[0][0]']               \n",
      " rmalization)                                                                                     \n",
      "                                                                                                  \n",
      " tf.nn.relu_3 (TFOpLambda)      (None, 30, 30, 16)   0           ['batch_normalization_3[0][0]']  \n",
      "                                                                                                  \n",
      " max_pooling2d_1 (MaxPooling2D)  (None, 10, 10, 16)  0           ['tf.nn.relu_3[0][0]']           \n",
      "                                                                                                  \n",
      " conv2d_4 (Conv2D)              (None, 10, 10, 32)   4640        ['max_pooling2d_1[0][0]']        \n",
      "                                                                                                  \n",
      " batch_normalization_4 (BatchNo  (None, 10, 10, 32)  128         ['conv2d_4[0][0]']               \n",
      " rmalization)                                                                                     \n",
      "                                                                                                  \n",
      " tf.nn.relu_4 (TFOpLambda)      (None, 10, 10, 32)   0           ['batch_normalization_4[0][0]']  \n",
      "                                                                                                  \n",
      " conv2d_5 (Conv2D)              (None, 10, 10, 32)   9248        ['tf.nn.relu_4[0][0]']           \n",
      "                                                                                                  \n",
      " batch_normalization_5 (BatchNo  (None, 10, 10, 32)  128         ['conv2d_5[0][0]']               \n",
      " rmalization)                                                                                     \n",
      "                                                                                                  \n",
      " tf.nn.relu_5 (TFOpLambda)      (None, 10, 10, 32)   0           ['batch_normalization_5[0][0]']  \n",
      "                                                                                                  \n",
      " max_pooling2d_2 (MaxPooling2D)  (None, 5, 5, 32)    0           ['tf.nn.relu_5[0][0]']           \n",
      "                                                                                                  \n",
      " conv2d_6 (Conv2D)              (None, 5, 5, 64)     18496       ['max_pooling2d_2[0][0]']        \n",
      "                                                                                                  \n",
      " batch_normalization_6 (BatchNo  (None, 5, 5, 64)    256         ['conv2d_6[0][0]']               \n",
      " rmalization)                                                                                     \n",
      "                                                                                                  \n",
      " tf.nn.relu_6 (TFOpLambda)      (None, 5, 5, 64)     0           ['batch_normalization_6[0][0]']  \n",
      "                                                                                                  \n",
      " conv2d_7 (Conv2D)              (None, 5, 5, 64)     36928       ['tf.nn.relu_6[0][0]']           \n",
      "                                                                                                  \n",
      " batch_normalization_7 (BatchNo  (None, 5, 5, 64)    256         ['conv2d_7[0][0]']               \n",
      " rmalization)                                                                                     \n",
      "                                                                                                  \n",
      " tf.nn.relu_7 (TFOpLambda)      (None, 5, 5, 64)     0           ['batch_normalization_7[0][0]']  \n",
      "                                                                                                  \n",
      " conv2d_transpose (Conv2DTransp  (None, 10, 10, 32)  18464       ['tf.nn.relu_7[0][0]']           \n",
      " ose)                                                                                             \n",
      "                                                                                                  \n",
      " concatenate (Concatenate)      (None, 10, 10, 64)   0           ['conv2d_transpose[0][0]',       \n",
      "                                                                  'tf.nn.relu_5[0][0]']           \n",
      "                                                                                                  \n",
      " conv2d_8 (Conv2D)              (None, 10, 10, 32)   18464       ['concatenate[0][0]']            \n",
      "                                                                                                  \n",
      " batch_normalization_8 (BatchNo  (None, 10, 10, 32)  128         ['conv2d_8[0][0]']               \n",
      " rmalization)                                                                                     \n",
      "                                                                                                  \n",
      " tf.nn.relu_8 (TFOpLambda)      (None, 10, 10, 32)   0           ['batch_normalization_8[0][0]']  \n",
      "                                                                                                  \n",
      " conv2d_9 (Conv2D)              (None, 10, 10, 32)   9248        ['tf.nn.relu_8[0][0]']           \n",
      "                                                                                                  \n",
      " batch_normalization_9 (BatchNo  (None, 10, 10, 32)  128         ['conv2d_9[0][0]']               \n",
      " rmalization)                                                                                     \n",
      "                                                                                                  \n",
      " tf.nn.relu_9 (TFOpLambda)      (None, 10, 10, 32)   0           ['batch_normalization_9[0][0]']  \n",
      "                                                                                                  \n",
      " conv2d_transpose_1 (Conv2DTran  (None, 30, 30, 16)  4624        ['tf.nn.relu_9[0][0]']           \n",
      " spose)                                                                                           \n",
      "                                                                                                  \n",
      " concatenate_1 (Concatenate)    (None, 30, 30, 32)   0           ['conv2d_transpose_1[0][0]',     \n",
      "                                                                  'tf.nn.relu_3[0][0]']           \n",
      "                                                                                                  \n",
      " conv2d_10 (Conv2D)             (None, 30, 30, 16)   4624        ['concatenate_1[0][0]']          \n",
      "                                                                                                  \n",
      " batch_normalization_10 (BatchN  (None, 30, 30, 16)  64          ['conv2d_10[0][0]']              \n",
      " ormalization)                                                                                    \n",
      "                                                                                                  \n",
      " tf.nn.relu_10 (TFOpLambda)     (None, 30, 30, 16)   0           ['batch_normalization_10[0][0]'] \n",
      "                                                                                                  \n",
      " conv2d_11 (Conv2D)             (None, 30, 30, 16)   2320        ['tf.nn.relu_10[0][0]']          \n",
      "                                                                                                  \n",
      " batch_normalization_11 (BatchN  (None, 30, 30, 16)  64          ['conv2d_11[0][0]']              \n",
      " ormalization)                                                                                    \n",
      "                                                                                                  \n",
      " tf.nn.relu_11 (TFOpLambda)     (None, 30, 30, 16)   0           ['batch_normalization_11[0][0]'] \n",
      "                                                                                                  \n",
      " conv2d_12 (Conv2D)             (None, 30, 30, 1)    17          ['tf.nn.relu_11[0][0]']          \n",
      "                                                                                                  \n",
      "==================================================================================================\n",
      "Total params: 132,569\n",
      "Trainable params: 131,897\n",
      "Non-trainable params: 672\n",
      "__________________________________________________________________________________________________\n"
     ]
    },
    {
     "data": {
      "application/vnd.jupyter.widget-view+json": {
       "model_id": "8282722bd83d4f28940f863600e0b79c",
       "version_major": 2,
       "version_minor": 0
      },
      "text/plain": [
       "0epoch [00:00, ?epoch/s]"
      ]
     },
     "metadata": {},
     "output_type": "display_data"
    },
    {
     "name": "stdout",
     "output_type": "stream",
     "text": [
      "0\n",
      "Correlation:  0.9977171399608573\n"
     ]
    },
    {
     "data": {
      "image/png": "[encoded data removed]",
      "text/plain": [
       "<Figure size 432x288 with 1 Axes>"
      ]
     },
     "metadata": {
      "needs_background": "light"
     },
     "output_type": "display_data"
    },
    {
     "name": "stdout",
     "output_type": "stream",
     "text": [
      "------------------------------------------------------------------------------------\n"
     ]
    }
   ],
   "source": [
    "input_shape = (90, 90, 1)\n",
    "\n",
    "ce = ContrastEvaluation()\n",
    "\n",
    "opt = tf.keras.optimizers.Adam(learning_rate=0.001)\n",
    "model = build_unet(input_shape)\n",
    "model.summary()\n",
    "model.compile(loss='mse', metrics='mse', optimizer=opt)\n",
    "history = model.fit(X_train_ADU, X_train_GT, validation_split = 0.1, epochs=50, shuffle=True,batch_size=128, verbose=0, callbacks=[ce, TqdmCallbackFix(verbose=0)])"
   ]
  },
  {
   "cell_type": "code",
   "execution_count": null,
   "metadata": {},
   "outputs": [],
   "source": [
    "# Plot training and validation loss history \n",
    "figure(figsize=(8, 8), dpi=80)\n",
    "plt.plot(history.history['mse'], label = 'Training Mean Squared Error')\n",
    "plt.plot(history.history['val_mse'], label = 'Validation Mean Squared Error')\n",
    "plt.xticks(fontsize=15)\n",
    "plt.yticks(fontsize=15)\n",
    "plt.gca().set_aspect('equal', adjustable='box')\n",
    "plt.legend(fontsize=16)\n",
    "plt.show()"
   ]
  }
 ],
 "metadata": {
  "kernelspec": {
   "display_name": "Python 3",
   "language": "python",
   "name": "python3"
  },
  "language_info": {
   "codemirror_mode": {
    "name": "ipython",
    "version": 3
   },
   "file_extension": ".py",
   "mimetype": "text/x-python",
   "name": "python",
   "nbconvert_exporter": "python",
   "pygments_lexer": "ipython3",
   "version": "3.8.12"
  }
 },
 "nbformat": 4,
 "nbformat_minor": 4
}
